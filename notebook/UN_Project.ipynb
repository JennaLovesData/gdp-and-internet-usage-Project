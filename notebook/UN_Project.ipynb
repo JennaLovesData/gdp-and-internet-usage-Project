{
 "cells": [
  {
   "cell_type": "markdown",
   "id": "bbf75e98-f14e-410e-9390-04cfcffde36a",
   "metadata": {},
   "source": [
    "import pandas as pd  \n",
    "import numpy as np\n",
    "import matplotlib.pyplot as plt \n",
    "import seaborn as sns"
   ]
  },
  {
   "cell_type": "markdown",
   "id": "522fe155-611b-4be1-afed-d18515227b69",
   "metadata": {},
   "source": [
    "5. How many rows and columns are in `gdp_df`? What are the data types of each column?"
   ]
  },
  {
   "cell_type": "markdown",
   "id": "7df45c34-7dc1-422b-87ad-0a1c02725078",
   "metadata": {},
   "source": [
    "gdp_df = pd.read_csv('../data/gdp_percapita.csv')\n",
    "gdp_df"
   ]
  },
  {
   "cell_type": "markdown",
   "id": "e5a03ced-769d-456e-9464-e40fbfb38c7d",
   "metadata": {},
   "source": [
    "gdp_df.shape"
   ]
  },
  {
   "cell_type": "markdown",
   "id": "4041daea-3d67-4c96-a371-f0c2b48109a7",
   "metadata": {},
   "source": [
    "gdp_df.info()"
   ]
  },
  {
   "cell_type": "markdown",
   "id": "cfbde033-f3b8-4d3a-97a1-1cb36124b3d0",
   "metadata": {},
   "source": [
    "6. Drop the `Value Footnotes` column and rename the remaining three to 'Country', 'Year', and 'GDP_Per_Capita'."
   ]
  },
  {
   "cell_type": "markdown",
   "id": "0a0871ee-d60b-4231-be32-cb7dc2c422b4",
   "metadata": {},
   "source": [
    "gdp_df1=gdp_df.drop(columns = 'Value Footnotes')\n"
   ]
  },
  {
   "cell_type": "markdown",
   "id": "76b2252f-8c61-43e9-9909-c00b453f3008",
   "metadata": {},
   "source": [
    "gdp_df1=gdp_df1.rename(columns = {'Country or Area': 'Country', 'Value': 'GDP_Per_Capita'})\n",
    "gdp_df1"
   ]
  },
  {
   "cell_type": "markdown",
   "id": "b8c12b0e-c3e2-42b1-8f71-42da3ac8b3c1",
   "metadata": {},
   "source": [
    "7. How many countries have data for all years? Which countries are missing many years of data? Look at the number of observations per year. What do you notice?"
   ]
  },
  {
   "cell_type": "markdown",
   "id": "08add15c-0b04-4b59-ae1a-178ad3d478f5",
   "metadata": {
    "scrolled": true
   },
   "source": [
    "len(gdp_df1.Year.value_counts())"
   ]
  },
  {
   "cell_type": "markdown",
   "id": "6ab660f2-72d7-4df2-a257-ba677099fa1b",
   "metadata": {},
   "source": [
    "gdp_df1['Country'].value_counts()"
   ]
  },
  {
   "cell_type": "markdown",
   "id": "e21930a7-ec82-4ee5-9427-1b2ee2f40f69",
   "metadata": {
    "scrolled": true
   },
   "source": [
    "countries_missing_data = gdp_df1['Country'].value_counts().reset_index()\n",
    "countries_missing_data"
   ]
  },
  {
   "cell_type": "markdown",
   "id": "72fbba65-fba0-43a5-8ce5-d8e3087af935",
   "metadata": {},
   "source": [
    "countries_missing_data.columns = ['Country' , 'Years']\n",
    "countries_missing_data"
   ]
  },
  {
   "cell_type": "markdown",
   "id": "1fb949b1-1bdb-48e2-88f4-76ac8285b3fe",
   "metadata": {},
   "source": [
    "8. Create a histogram, a density plot, a boxplot, and a violin plot. Less than 10K has greatest GDP Per Capita"
   ]
  },
  {
   "cell_type": "markdown",
   "id": "9becab4e-e81e-4d27-bf8c-90241c226e31",
   "metadata": {},
   "source": [
    "sns.set_theme(style=\"darkgrid\")\n",
    "\n",
    "sns.histplot(gdp_df1.GDP_Per_Capita.loc [gdp_df1.Year == 2020])\n",
    "plt.show()"
   ]
  },
  {
   "cell_type": "markdown",
   "id": "625de57e-0f3c-4070-af87-d17d0a4ac0c8",
   "metadata": {},
   "source": [
    "sns.kdeplot(gdp_df1.GDP_Per_Capita.loc [gdp_df1.Year == 2020])"
   ]
  },
  {
   "cell_type": "markdown",
   "id": "0a0923c0-acad-408d-87c4-7fb7738ce84b",
   "metadata": {},
   "source": [
    "sns.boxplot(gdp_df1.GDP_Per_Capita.loc [gdp_df1.Year == 2020])"
   ]
  },
  {
   "cell_type": "markdown",
   "id": "7c1bae26-851d-48c3-80d7-ff712290720f",
   "metadata": {},
   "source": [
    "sns.violinplot(y=gdp_df1.GDP_Per_Capita.loc [gdp_df1.Year == 2020])"
   ]
  },
  {
   "cell_type": "markdown",
   "id": "4205cfe7-9106-45b8-b2d4-c2f29fb43e99",
   "metadata": {},
   "source": [
    "9. What was the median GDP per capita value in 2020?"
   ]
  },
  {
   "cell_type": "markdown",
   "id": "39018259-67a8-4b80-bc45-42de574e92cc",
   "metadata": {},
   "source": [
    "round(gdp_df1.GDP_Per_Capita.median(), 2)"
   ]
  },
  {
   "cell_type": "markdown",
   "id": "26a146fc-a578-4447-8ca3-c3226cecb140",
   "metadata": {},
   "source": [
    "10. Compare GDP per capita values for the years 1990, 2000, 2010, and 2020. Start by subsetting your data to just these 4 years into a new DataFrame named gdp_decades. **GDP has been growing but most countries are at or below 20,000**\n"
   ]
  },
  {
   "cell_type": "markdown",
   "id": "f2e94d90-e954-437b-8cbe-e6cec7209aa0",
   "metadata": {},
   "source": [
    "gdp_decades = gdp_df1[gdp_df1[\"Year\"].isin([1990,2000,2010,2020])]\n",
    "gdp_decades"
   ]
  },
  {
   "cell_type": "markdown",
   "id": "c7a471a2-3a50-41ac-9ed7-c262a533d26f",
   "metadata": {},
   "source": [
    "sns.boxplot(x=gdp_decades[\"Year\"], y=gdp_decades[\"GDP_Per_Capita\"])"
   ]
  },
  {
   "cell_type": "markdown",
   "id": "d7909f58-9977-4b2c-ae5c-3d4a1519d6ad",
   "metadata": {},
   "source": [
    "sns.barplot(x=gdp_decades[\"Year\"], y=gdp_decades[\"GDP_Per_Capita\"])"
   ]
  },
  {
   "cell_type": "markdown",
   "id": "db60df12-ef65-4cd9-a655-3e149b16a90e",
   "metadata": {},
   "source": [
    "sns.scatterplot(data=gdp_decades, x=\"Year\", y=\"GDP_Per_Capita\")"
   ]
  },
  {
   "cell_type": "markdown",
   "id": "fb62f40e-5156-4138-b746-01816061f62e",
   "metadata": {},
   "source": [
    "fig, ax = plt.subplots(figsize=(8, 6))\n",
    "sns.regplot(\n",
    "    x=gdp_decades[\"Year\"],\n",
    "    y=gdp_decades[\"GDP_Per_Capita\"],\n",
    "    line_kws={\"color\": \"green\", \"linewidth\": 1.5},\n",
    "    ax=ax)\n",
    "plt.show()"
   ]
  },
  {
   "cell_type": "markdown",
   "id": "7eee6123-a62e-413a-90f9-e626ce909bb0",
   "metadata": {},
   "source": [
    "11. Which country was the first to have a GDP per capita greater than $100,000?"
   ]
  },
  {
   "cell_type": "markdown",
   "id": "dc69d2a0-9f68-4b0a-a5bf-7f21edbe7639",
   "metadata": {},
   "source": [
    "first_gdp = gdp_df1.loc[gdp_df1.GDP_Per_Capita > 100000].sort_values(by = 'Year', ascending = True)\n",
    "first_gdp.head(1)"
   ]
  },
  {
   "cell_type": "markdown",
   "id": "63b1388d-4b42-43b5-bff8-94ba1008fac1",
   "metadata": {},
   "source": [
    "12. Which country had the highest GDP per capita in 2020? Create a plot showing how this country's GDP per capita has changed over the timespan of the dataset."
   ]
  },
  {
   "cell_type": "markdown",
   "id": "3dd16f89-c0a0-4eec-a12c-c8b41b8abe2c",
   "metadata": {},
   "source": [
    "gdp_2020 = gdp_df1[gdp_df1['Year'] == 2020]\n",
    "gdp_2020"
   ]
  },
  {
   "cell_type": "markdown",
   "id": "1d67c13f-1efe-4f70-a573-8c8441fbc5a4",
   "metadata": {},
   "source": [
    "max_gdp = gdp_2020['GDP_Per_Capita'].max()\n",
    "max_gdp"
   ]
  },
  {
   "cell_type": "markdown",
   "id": "5471045d-cb93-4e56-8e2e-658afe4c10ac",
   "metadata": {},
   "source": [
    "gdp_2020[gdp_2020['GDP_Per_Capita'] == max_gdp]"
   ]
  },
  {
   "cell_type": "markdown",
   "id": "ea74d595-4d5c-4fac-8127-f41d550d9a02",
   "metadata": {},
   "source": [
    "lux_df= gdp_decades.loc[gdp_decades['Country'] == 'Luxembourg'].sort_values(by = 'Year', ascending =True)\n",
    "lux_df"
   ]
  },
  {
   "cell_type": "markdown",
   "id": "5b073e05-3246-4e09-8c76-1cd5675e6f66",
   "metadata": {},
   "source": [
    "sns.barplot(x=lux_df['Year'], y=lux_df[\"GDP_Per_Capita\"])"
   ]
  },
  {
   "cell_type": "markdown",
   "id": "73452f45-ba84-4141-997d-13f780c19249",
   "metadata": {},
   "source": [
    "13. Which country had the lowest GDP per capita in 2020? Create a plot showing how this country's GDP per capita has changed over the timespan of the dataset. "
   ]
  },
  {
   "cell_type": "markdown",
   "id": "d902b9e0-1783-46d4-a6d7-8bf4e720e0ea",
   "metadata": {},
   "source": [
    "min_gdp = gdp_2020['GDP_Per_Capita'].min()\n",
    "min_gdp"
   ]
  },
  {
   "cell_type": "markdown",
   "id": "c1339dc0-fb31-40a1-b34d-ef2f8d099989",
   "metadata": {},
   "source": [
    "gdp_2020[gdp_2020['GDP_Per_Capita'] == min_gdp]"
   ]
  },
  {
   "cell_type": "markdown",
   "id": "4b34b9bd-5bf9-4b79-848f-d8b7c0b61017",
   "metadata": {},
   "source": [
    "bur_df= gdp_decades.loc[gdp_decades['Country'] == 'Burundi'].sort_values(by = 'Year', ascending =True)\n",
    "bur_df"
   ]
  },
  {
   "cell_type": "markdown",
   "id": "88a4c2f4-17dc-437a-b5b6-5a15d6eb9a40",
   "metadata": {},
   "source": [
    "sns.barplot(x=bur_df['Year'], y=bur_df[\"GDP_Per_Capita\"])"
   ]
  },
  {
   "cell_type": "markdown",
   "id": "db521edd-816b-4fe8-ae49-e9414d8f9cb5",
   "metadata": {},
   "source": [
    "13.**Bonus question:** Is it true in general that coutries had a higher GDP per capita in 2020 than in 1990? Which countries had lower GDP per capita in 2020 than in 1990?"
   ]
  },
  {
   "cell_type": "markdown",
   "id": "da37ecc9-5543-40e5-a39a-69789a601fd2",
   "metadata": {},
   "source": [
    "14. Read in the internet use dataset into a DataFrame named `internet_df`. "
   ]
  },
  {
   "cell_type": "markdown",
   "id": "66802146-9478-4d67-9884-58e32e54e9cc",
   "metadata": {},
   "source": [
    "internet_df = pd.read_csv('../data/internet_use.csv', nrows = 6083)\n",
    "internet_df"
   ]
  },
  {
   "cell_type": "markdown",
   "id": "d8302e2f-2467-41c5-8e93-c9b774308572",
   "metadata": {},
   "source": [
    "15. Drop the `Value Footnotes` column and rename the remaining three to 'Country', 'Year', and 'Internet_Users_Pct'."
   ]
  },
  {
   "cell_type": "markdown",
   "id": "693c7479-2bef-429d-9329-a74cb9c17edb",
   "metadata": {
    "scrolled": true
   },
   "source": [
    "internet_df.info()"
   ]
  },
  {
   "cell_type": "markdown",
   "id": "a94310ba-f3bf-4487-bc42-a927867c09b3",
   "metadata": {
    "scrolled": true
   },
   "source": [
    "internet_df.describe()"
   ]
  },
  {
   "cell_type": "markdown",
   "id": "cefc21e6-43de-43b1-b3bd-2d0d03f5e3ff",
   "metadata": {},
   "source": [
    "internet_df = internet_df.drop(columns = 'Value Footnotes')\n",
    "internet_df"
   ]
  },
  {
   "cell_type": "markdown",
   "id": "68485908-3d98-4525-a8ac-4af55528577a",
   "metadata": {},
   "source": [
    "internet_df=internet_df.rename(columns = {'Country or Area': 'Country', 'Value': 'Internet_Users_Pct'})\n",
    "internet_df"
   ]
  },
  {
   "cell_type": "markdown",
   "id": "640f1f81-18b1-4287-aa9b-27380b0a29be",
   "metadata": {},
   "source": [
    "16.Look at the number of observations in this dataset per year. What do you notice?"
   ]
  },
  {
   "cell_type": "markdown",
   "id": "e20c9240-6b89-49a0-9711-a34a616c2622",
   "metadata": {},
   "source": [
    "internet_df.Year.value_counts()"
   ]
  },
  {
   "cell_type": "markdown",
   "id": "89e1e7d9-e87c-40de-8333-46617f4852bf",
   "metadata": {},
   "source": [
    "internet_df.isna().sum()"
   ]
  },
  {
   "cell_type": "markdown",
   "id": "9e786e94-9bcf-4697-b065-439a0af15707",
   "metadata": {},
   "source": [
    "17. What is the first year to have a non-zero internet users percentage value?"
   ]
  },
  {
   "cell_type": "markdown",
   "id": "e5a2ecb8-dc8c-45f3-8c43-9a28e225292c",
   "metadata": {},
   "source": [
    "non_zero=internet_df.loc[internet_df['Internet_Users_Pct'] > 0.0]\n",
    "non_zero"
   ]
  },
  {
   "cell_type": "markdown",
   "id": "8a2ecfc5-0f6e-4e0b-817a-765ac6302569",
   "metadata": {},
   "source": [
    "non_zero['Year'].min()"
   ]
  },
  {
   "cell_type": "markdown",
   "id": "3b11cb4d-8a30-4cd3-8d81-50d3f0ecb6e9",
   "metadata": {},
   "source": [
    "18. How does the distribution of internet users percent differ for 2000 and 2014?"
   ]
  },
  {
   "cell_type": "markdown",
   "id": "ffd958ed-465b-4697-b0e3-d4b5379fd3e2",
   "metadata": {},
   "source": [
    "differ_2020_df = internet_df.loc[(internet_df['Year'] == 2020)]\n",
    "differ_2020_df"
   ]
  },
  {
   "cell_type": "markdown",
   "id": "0c9f7901-66ff-4443-a8dc-3f27f9e8f626",
   "metadata": {},
   "source": [
    "differ_2014_df = internet_df.loc[(internet_df['Year'] == 2014)]\n",
    "differ_2014_df"
   ]
  },
  {
   "cell_type": "markdown",
   "id": "ba91b5ec-d77a-4365-a0aa-e00223964593",
   "metadata": {},
   "source": [
    "sns.histplot(data=differ_2014_df, x=\"Internet_Users_Pct\", color=\"skyblue\", label=\"2014 Internet Use\", kde=True)\n",
    "sns.histplot(data=differ_2020_df, x=\"Internet_Users_Pct\", color=\"coral\", label=\"2020 Interent Use\", kde=True)\n",
    "\n",
    "plt.legend() \n",
    "plt.show()"
   ]
  },
  {
   "cell_type": "markdown",
   "id": "a74a3a7c-444a-4823-9c55-0c0e90966689",
   "metadata": {},
   "source": [
    "19. For how many countries was the percentage of internet users below 5% in 2014?"
   ]
  },
  {
   "cell_type": "markdown",
   "id": "6ac5aa48-e16e-4dcf-91cf-5b6e8d34840d",
   "metadata": {},
   "source": [
    "under_five_df = internet_df.loc[(internet_df['Internet_Users_Pct'] < 5.00)]\n",
    "under_five_df"
   ]
  },
  {
   "cell_type": "markdown",
   "id": "7433a261-7cee-4239-93ac-9f3c69f6a70f",
   "metadata": {
    "scrolled": true
   },
   "source": [
    "use_2014 = under_five_df[(under_five_df['Year'] == 2014)].sort_values(by = 'Internet_Users_Pct', ascending = False)\n",
    "use_2014"
   ]
  },
  {
   "cell_type": "markdown",
   "id": "46d1810e-1e29-4a8b-9c1e-11bd96d6c9c8",
   "metadata": {},
   "source": [
    "len(use_2014.value_counts())"
   ]
  },
  {
   "cell_type": "markdown",
   "id": "1e35bde2-35cf-4b8c-a246-6b41dd1546ed",
   "metadata": {},
   "source": [
    "20. Merge the two DataFrames to one. Do this in a way that keeps **all rows** from each of the two DataFrames. Call the new DataFrame `gdp_and_internet_use`. Look at the first and last few rows to confirm that it merged correctly."
   ]
  },
  {
   "cell_type": "markdown",
   "id": "297c6132-46a0-4c1a-aab2-3ecd83172619",
   "metadata": {},
   "source": [
    "gdp_df1"
   ]
  },
  {
   "cell_type": "markdown",
   "id": "a99a9dcf-e8c6-4379-9733-f2f474e480ce",
   "metadata": {},
   "source": [
    "internet_df"
   ]
  },
  {
   "cell_type": "markdown",
   "id": "c6051a1a-e3fa-4dba-ac73-77015f86a5ca",
   "metadata": {},
   "source": [
    "gdp_and_internet_use_df=pd.merge(gdp_df1, internet_df, how = 'outer', on = ['Country', 'Year'])\n",
    "gdp_and_internet_use_df"
   ]
  },
  {
   "cell_type": "markdown",
   "id": "dd0ea906-8834-4b59-9b22-78391550387b",
   "metadata": {},
   "source": [
    "21.Find the three countries with the highest internet users percentage in 2014. What do you notice?"
   ]
  },
  {
   "cell_type": "markdown",
   "id": "2b19d2d9-dfdb-4f33-8fbb-4ed0b47b5391",
   "metadata": {},
   "source": [
    "year_2014 = gdp_and_internet_use_df.loc[gdp_and_internet_use_df['Year'] == 2014]\n",
    "year_2014"
   ]
  },
  {
   "cell_type": "markdown",
   "id": "e6548398-206a-43ea-ba22-1d519fe718e1",
   "metadata": {},
   "source": [
    "year_2014.nlargest(4, 'Internet_Users_Pct')"
   ]
  },
  {
   "cell_type": "markdown",
   "id": "0c1ade15-2154-41fc-9541-ca9144e2f42a",
   "metadata": {},
   "source": [
    "top_3=gdp_and_internet_use_df.loc[(gdp_and_internet_use_df['Country'] == 'Iceland') |\n",
    "(gdp_and_internet_use_df['Country'] == 'Bermuda') |\n",
    "(gdp_and_internet_use_df['Country'] == 'Norway')]\n",
    "top_3"
   ]
  },
  {
   "cell_type": "markdown",
   "id": "192e2c71-9aab-4480-a2e9-7e9e8d79f9be",
   "metadata": {},
   "source": [
    "g = sns.FacetGrid(top_3, col=\"Country\")\n",
    "g.map_dataframe(sns.lineplot, x=\"Year\", y=\"GDP_Per_Capita\")"
   ]
  },
  {
   "cell_type": "markdown",
   "id": "91b8c4ab-5c6a-4092-9864-6dc720995ed5",
   "metadata": {},
   "source": [
    "22. Subset `gdp_and_internet_use` to just the year 2014. Save this as a new dataframe named `gdp_and_internet_use_2014`."
   ]
  },
  {
   "cell_type": "markdown",
   "id": "3062ff69-be2c-458f-b2f9-03b16d69f7b8",
   "metadata": {},
   "source": [
    "gdp_and_internet_use_2014 = gdp_and_internet_use_df.loc[gdp_and_internet_use_df['Year'] == 2014]\n",
    "gdp_and_internet_use_2014 "
   ]
  },
  {
   "cell_type": "markdown",
   "id": "04fe7938-cb78-4618-b71e-90fe1a31d829",
   "metadata": {},
   "source": [
    "23.Create a plot which compares Internet Users Percentage and GDP per Capita for the year 2014. What do you notice from this plot? If you see any unusual points, investigate them."
   ]
  },
  {
   "cell_type": "markdown",
   "id": "9b17227d-85d0-4239-8fe9-d78f66ecd3f1",
   "metadata": {},
   "source": [
    "sns.lmplot(\n",
    "    x=\"Internet_Users_Pct\",\n",
    "    y=\"GDP_Per_Capita\",\n",
    "    data=gdp_and_internet_use_2014)\n",
    "plt.show()"
   ]
  }
 ],
 "metadata": {
  "kernelspec": {
   "display_name": "Python 3 (ipykernel)",
   "language": "python",
   "name": "python3"
  },
  "language_info": {
   "codemirror_mode": {
    "name": "ipython",
    "version": 3
   },
   "file_extension": ".py",
   "mimetype": "text/x-python",
   "name": "python",
   "nbconvert_exporter": "python",
   "pygments_lexer": "ipython3",
   "version": "3.12.4"
  }
 },
 "nbformat": 4,
 "nbformat_minor": 5
}
