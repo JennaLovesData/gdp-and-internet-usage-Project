{
 "cells": [
  {
   "cell_type": "code",
   "execution_count": null,
   "id": "02bcfb72-ab3c-4318-9c1e-54ac8fac070c",
   "metadata": {},
   "outputs": [],
   "source": [
    "import pandas as pd  \n",
    "import numpy as np\n",
    "import matplotlib.pyplot as plt \n",
    "import seaborn as sns"
   ]
  },
  {
   "cell_type": "markdown",
   "id": "522fe155-611b-4be1-afed-d18515227b69",
   "metadata": {},
   "source": [
    "5. How many rows and columns are in `gdp_df`? What are the data types of each column?"
   ]
  },
  {
   "cell_type": "code",
   "execution_count": null,
   "id": "9819e92c-6f6e-4448-b2fc-76a444c3de94",
   "metadata": {},
   "outputs": [],
   "source": [
    "gdp_df = pd.read_csv('../data/gdp_percapita.csv')\n",
    "gdp_df.shape"
   ]
  },
  {
   "cell_type": "code",
   "execution_count": null,
   "id": "95769219-d7fb-4508-a54f-3fe9406cf961",
   "metadata": {},
   "outputs": [],
   "source": [
    "datatypes = gdp_df.dtypes\n",
    "datatypes"
   ]
  },
  {
   "cell_type": "markdown",
   "id": "cfbde033-f3b8-4d3a-97a1-1cb36124b3d0",
   "metadata": {},
   "source": [
    "6. Drop the `Value Footnotes` column and rename the remaining three to 'Country', 'Year', and 'GDP_Per_Capita'."
   ]
  },
  {
   "cell_type": "code",
   "execution_count": null,
   "id": "e2f775c4-e865-428b-be47-2782b65de074",
   "metadata": {},
   "outputs": [],
   "source": [
    "gdp_df.columns"
   ]
  },
  {
   "cell_type": "code",
   "execution_count": null,
   "id": "eb4c9f65-c3b3-462e-9abf-44c09420e240",
   "metadata": {},
   "outputs": [],
   "source": [
    "new_gdp = gdp_df.drop(columns = ['Value Footnotes'])"
   ]
  },
  {
   "cell_type": "code",
   "execution_count": null,
   "id": "5c822c13-36b8-451f-ac88-eedda887ed71",
   "metadata": {},
   "outputs": [],
   "source": [
    "gdp_df=new_gdp.rename(columns = {'Country or Area': 'Country', 'Value': 'GDP_Per_Capita'})"
   ]
  },
  {
   "cell_type": "code",
   "execution_count": null,
   "id": "f7709023-8149-4639-be98-7449c416ed8c",
   "metadata": {},
   "outputs": [],
   "source": []
  },
  {
   "cell_type": "markdown",
   "id": "b8c12b0e-c3e2-42b1-8f71-42da3ac8b3c1",
   "metadata": {},
   "source": [
    "7. How many countries have data for all years? Which countries are missing many years of data? Look at the number of observations per year. What do you notice?"
   ]
  },
  {
   "cell_type": "code",
   "execution_count": null,
   "id": "49f65c2b-33be-47da-84a7-e68da776526a",
   "metadata": {},
   "outputs": [],
   "source": [
    "gdp_df.info()"
   ]
  },
  {
   "cell_type": "markdown",
   "id": "1fb949b1-1bdb-48e2-88f4-76ac8285b3fe",
   "metadata": {},
   "source": [
    "8. Create a histogram, a density plot, a boxplot, and a violin plot. Less than 10K has greatest GDP Per Capita"
   ]
  },
  {
   "cell_type": "code",
   "execution_count": null,
   "id": "82a468de-b788-46bd-b505-55081b5addf8",
   "metadata": {},
   "outputs": [],
   "source": [
    "sns.set_theme(style=\"darkgrid\")\n",
    "\n",
    "sns.histplot(gdp_df.GDP_Per_Capita.loc [gdp_df.Year == 2020])\n",
    "plt.show()"
   ]
  },
  {
   "cell_type": "code",
   "execution_count": null,
   "id": "c941fd47-b0f2-420e-810f-c54a4be3c93d",
   "metadata": {},
   "outputs": [],
   "source": [
    "sns.kdeplot(gdp_df.GDP_Per_Capita.loc [gdp_df.Year == 2020])"
   ]
  },
  {
   "cell_type": "code",
   "execution_count": null,
   "id": "8a0cecef-d11a-419f-93bb-4b9849c7ed47",
   "metadata": {},
   "outputs": [],
   "source": [
    "sns.boxplot(gdp_df.GDP_Per_Capita.loc [gdp_df.Year == 2020])"
   ]
  },
  {
   "cell_type": "code",
   "execution_count": null,
   "id": "28107c4f-338c-4578-a8d0-21b02231a717",
   "metadata": {},
   "outputs": [],
   "source": [
    "sns.violinplot(y=gdp_df.GDP_Per_Capita.loc [gdp_df.Year == 2020])"
   ]
  },
  {
   "cell_type": "markdown",
   "id": "4205cfe7-9106-45b8-b2d4-c2f29fb43e99",
   "metadata": {},
   "source": [
    "9. What was the median GDP per capita value in 2020?"
   ]
  },
  {
   "cell_type": "code",
   "execution_count": null,
   "id": "012bedd4-31fd-4481-b2c2-fb86393199ca",
   "metadata": {},
   "outputs": [],
   "source": []
  }
 ],
 "metadata": {
  "kernelspec": {
   "display_name": "Python 3 (ipykernel)",
   "language": "python",
   "name": "python3"
  },
  "language_info": {
   "codemirror_mode": {
    "name": "ipython",
    "version": 3
   },
   "file_extension": ".py",
   "mimetype": "text/x-python",
   "name": "python",
   "nbconvert_exporter": "python",
   "pygments_lexer": "ipython3",
   "version": "3.12.4"
  }
 },
 "nbformat": 4,
 "nbformat_minor": 5
}
